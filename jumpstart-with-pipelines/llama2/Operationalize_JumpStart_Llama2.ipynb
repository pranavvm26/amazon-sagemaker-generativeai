{
 "cells": [
  {
   "cell_type": "code",
   "execution_count": 2,
   "id": "61672dda-43f3-4017-b332-9a802aa3e26c",
   "metadata": {
    "tags": []
   },
   "outputs": [
    {
     "name": "stdout",
     "output_type": "stream",
     "text": [
      "\u001b[31mERROR: pip's dependency resolver does not currently take into account all the packages that are installed. This behaviour is the source of the following dependency conflicts.\n",
      "distributed 2022.7.0 requires tornado<6.2,>=6.0.3, but you have tornado 6.3.2 which is incompatible.\u001b[0m\u001b[31m\n",
      "\u001b[0m\u001b[33mWARNING: Running pip as the 'root' user can result in broken permissions and conflicting behaviour with the system package manager. It is recommended to use a virtual environment instead: https://pip.pypa.io/warnings/venv\u001b[0m\u001b[33m\n",
      "\u001b[0m"
     ]
    }
   ],
   "source": [
    "!python3 -m pip install -U -q sagemaker"
   ]
  },
  {
   "cell_type": "code",
   "execution_count": 104,
   "id": "0e53f06a-4cad-4766-b307-049110118096",
   "metadata": {
    "tags": []
   },
   "outputs": [],
   "source": [
    "import boto3\n",
    "import pprint\n",
    "import sagemaker\n",
    "from datetime import datetime\n",
    "from sagemaker.workflow.pipeline_context import PipelineSession"
   ]
  },
  {
   "cell_type": "code",
   "execution_count": 136,
   "id": "ba750787-8fde-482d-b8e2-bd59d4896bbb",
   "metadata": {
    "tags": []
   },
   "outputs": [],
   "source": [
    "sagemaker_session = sagemaker.session.Session()\n",
    "region = sagemaker_session.boto_region_name\n",
    "role = sagemaker.get_execution_role()\n",
    "pipeline_session = PipelineSession()\n",
    "default_bucket = sagemaker_session.default_bucket()\n",
    "sm_client = boto3.client(\"sagemaker\")\n",
    "s3 = boto3.resource(\"s3\")"
   ]
  },
  {
   "cell_type": "markdown",
   "id": "6bb154fc-c6d2-4b7b-8d09-b0f66a877b2b",
   "metadata": {},
   "source": [
    "## Setup"
   ]
  },
  {
   "cell_type": "code",
   "execution_count": 137,
   "id": "c983c11d-3b1b-4e14-b177-2ce827693ae4",
   "metadata": {
    "tags": []
   },
   "outputs": [],
   "source": [
    "from sagemaker.workflow.parameters import (\n",
    "    ParameterInteger,\n",
    "    ParameterString,\n",
    "    ParameterFloat,\n",
    "    ParameterBoolean\n",
    ")\n",
    "from sagemaker.workflow.steps import CacheConfig"
   ]
  },
  {
   "cell_type": "code",
   "execution_count": 138,
   "id": "11b6e6e2-b442-47fe-b761-2e27ff724651",
   "metadata": {
    "tags": []
   },
   "outputs": [
    {
     "name": "stderr",
     "output_type": "stream",
     "text": [
      "INFO:sagemaker.image_uris:Defaulting to only available Python version: py3\n",
      "INFO:sagemaker.image_uris:Defaulting to only supported image scope: cpu.\n"
     ]
    }
   ],
   "source": [
    "base_job_prefix = \"llama27b\"\n",
    "pipeline_base = \"Llama2\"\n",
    "\n",
    "step_cache_config = CacheConfig(\n",
    "    enable_caching=True,\n",
    "    expire_after=\"T12H\",\n",
    ")\n",
    "\n",
    "# lets pick a light weight python container for pre and post processing\n",
    "basepy3_image_uri = sagemaker.image_uris.retrieve(\n",
    "    framework='sklearn', \n",
    "    region=region, \n",
    "    version='1.2-1'\n",
    ")\n",
    "\n",
    "# processing params\n",
    "input_dataset_name = ParameterString(\n",
    "    name=\"DatasetName\",\n",
    "    default_value=\"databricks/databricks-dolly-15k\",\n",
    ")\n",
    "processing_instance_type = ParameterString(\n",
    "    name=\"ProcessingInstanceType\", \n",
    "    default_value=\"ml.c5.xlarge\"\n",
    ")\n",
    "\n",
    "processing_image_uri = ParameterString(\n",
    "    name=\"ProcessingImageURI\", \n",
    "    default_value=basepy3_image_uri\n",
    ")\n",
    "\n",
    "# training params\n",
    "train_instance_count = ParameterInteger(\n",
    "    name=\"TrainingInstanceCount\", \n",
    "    default_value=1\n",
    ")\n",
    "train_instance_type = ParameterString(\n",
    "    name=\"TrainingInstanceType\", \n",
    "    default_value=\"ml.g5.12xlarge\"\n",
    ")\n",
    "model_id = ParameterString(\n",
    "    name=\"ModelId\", \n",
    "    default_value=\"meta-textgeneration-llama-2-7b\"\n",
    ")\n",
    "epochs = ParameterInteger(\n",
    "    name=\"Epochs\", \n",
    "    default_value=1\n",
    ")\n",
    "model_output_path = ParameterString(\n",
    "    name=\"ModelOutputS3URI\", \n",
    "    default_value=f\"s3://{default_bucket}/{model_id.default_value}/models/\"\n",
    ")\n",
    "\n",
    "training_monitor_metrics = ParameterString(\n",
    "    name=\"TrainingMonitorMetrics\", \n",
    "    default_value=\"huggingface-textgeneration:eval-loss,huggingface-textgeneration:eval-ppl,huggingface-textgeneration:train-loss\"\n",
    ")\n",
    "\n",
    "pending_threshold = ParameterFloat(\n",
    "    name=\"RegisterThreshold\", default_value=2.0\n",
    ")\n",
    "\n",
    "approved_threshold = ParameterFloat(\n",
    "    name=\"DeployThreshold\", default_value=1.5\n",
    ")\n",
    "\n",
    "model_package_group_name = ParameterString(\n",
    "    name=\"ModelPackageGroupName\", \n",
    "    default_value=\"llama-2-7b-jumpstart\"\n",
    ")\n",
    "\n",
    "# deploy params\n",
    "inference_instance_count = ParameterInteger(\n",
    "    name=\"InferenceInstanceCount\", \n",
    "    default_value=1\n",
    ")\n",
    "\n",
    "inference_instance_type = ParameterString(\n",
    "    name=\"InferenceInstanceType\", \n",
    "    default_value=\"ml.g5.xlarge\"\n",
    ")\n",
    "\n",
    "global_experiment_name = ParameterString(\n",
    "    name=\"PipelineExperimentName\", \n",
    "    default_value=\"llama2-7b-experiments\"\n",
    ")"
   ]
  },
  {
   "cell_type": "markdown",
   "id": "d4588231-7c8f-4d75-9413-74548e8b57ef",
   "metadata": {
    "tags": []
   },
   "source": [
    "## Preprocessing"
   ]
  },
  {
   "cell_type": "code",
   "execution_count": 139,
   "id": "8654b7f8-4027-4726-98e9-cc13a529cd1a",
   "metadata": {
    "tags": []
   },
   "outputs": [],
   "source": [
    "from sagemaker.sklearn.processing import ScriptProcessor\n",
    "from sagemaker.processing import ProcessingInput, ProcessingOutput\n",
    "from sagemaker.workflow.steps import ProcessingStep"
   ]
  },
  {
   "cell_type": "code",
   "execution_count": 140,
   "id": "4348f661-6624-425d-9a07-1ff66ac22f97",
   "metadata": {
    "tags": []
   },
   "outputs": [],
   "source": [
    "script_datapreproc = ScriptProcessor(\n",
    "    image_uri=processing_image_uri.default_value,\n",
    "    command=[\"python3\"],\n",
    "    instance_type=processing_instance_type,\n",
    "    instance_count=1,\n",
    "    base_job_name=f\"{base_job_prefix}/script-data-preprocessing\",\n",
    "    sagemaker_session=pipeline_session,\n",
    "    role=role\n",
    ")"
   ]
  },
  {
   "cell_type": "code",
   "execution_count": 141,
   "id": "9504533e-a2cb-4e39-8cbd-0029b5facde9",
   "metadata": {
    "tags": []
   },
   "outputs": [],
   "source": [
    "processor_args = script_datapreproc.run(\n",
    "    outputs=[\n",
    "        ProcessingOutput(\n",
    "            output_name=\"train\", \n",
    "            source=\"/opt/ml/processing/output/train\"\n",
    "        ),\n",
    "        ProcessingOutput(\n",
    "            output_name=\"validation\", \n",
    "            source=\"/opt/ml/processing/output/validation\"\n",
    "        ),\n",
    "        ProcessingOutput(\n",
    "            output_name=\"test\", \n",
    "            source=\"/opt/ml/processing/output/test\"\n",
    "        ),\n",
    "    ],\n",
    "    code=\"scripts/preprocess_dataset.py\",\n",
    "    arguments=[\n",
    "        \"--dataset_name\",\n",
    "        input_dataset_name,\n",
    "        \"--val_size\",\n",
    "        str(0.1),\n",
    "        \"--test_size\",\n",
    "        str(0.1),\n",
    "        \"--experiment_name\",\n",
    "        global_experiment_name\n",
    "    ]\n",
    ")"
   ]
  },
  {
   "cell_type": "code",
   "execution_count": 142,
   "id": "eb6dab6a-df7c-4b2b-9b28-b8182b130ac4",
   "metadata": {
    "tags": []
   },
   "outputs": [],
   "source": [
    "step_preprocess = ProcessingStep(\n",
    "    name=f\"{pipeline_base}-DataPrep\", \n",
    "    step_args=processor_args,\n",
    "    cache_config=step_cache_config\n",
    ")"
   ]
  },
  {
   "cell_type": "markdown",
   "id": "26a1eb3d-cfe7-467b-8bac-af6067b10431",
   "metadata": {
    "tags": []
   },
   "source": [
    "## Training Job"
   ]
  },
  {
   "cell_type": "code",
   "execution_count": 143,
   "id": "0f2c389b-8ebc-4907-836e-326b126cce4d",
   "metadata": {
    "tags": []
   },
   "outputs": [],
   "source": [
    "from sagemaker.inputs import TrainingInput\n",
    "from sagemaker.inputs import TrainingInput\n",
    "from sagemaker.workflow.steps import TrainingStep\n",
    "from sagemaker.jumpstart.estimator import JumpStartEstimator\n",
    "from sagemaker.workflow.execution_variables import ExecutionVariables"
   ]
  },
  {
   "cell_type": "code",
   "execution_count": 144,
   "id": "85125053-8327-45bb-b4cc-59c8af65e538",
   "metadata": {
    "tags": []
   },
   "outputs": [
    {
     "name": "stderr",
     "output_type": "stream",
     "text": [
      "INFO:sagemaker.jumpstart:Model 'meta-textgeneration-llama-2-7b' requires accepting end-user license agreement (EULA). See https://jumpstart-cache-prod-us-east-1.s3.us-east-1.amazonaws.com/fmhMetadata/eula/llamaEula.txt for terms of use.\n",
      "WARNING:sagemaker.workflow.utilities:The input argument instance_type of function (sagemaker.image_uris.retrieve) is a pipeline variable (<class 'sagemaker.workflow.parameters.ParameterString'>), which is not allowed. The default_value of this Parameter object will be used to override it. Please make sure the default_value is valid.\n",
      "INFO:sagemaker.image_uris:image_uri is not presented, retrieving image_uri based on instance_type, framework etc.\n"
     ]
    }
   ],
   "source": [
    "estimator = JumpStartEstimator(\n",
    "    model_id=model_id.default_value, \n",
    "    base_job_name=f\"{base_job_prefix}/training-job\",\n",
    "    instance_count=train_instance_count,\n",
    "    instance_type=train_instance_type,\n",
    "    output_path=model_output_path,\n",
    "    environment={\n",
    "        \"accept_eula\": \"true\"\n",
    "    },\n",
    "    hyperparameters={\n",
    "        \"instruction_tuned\": \"True\", \n",
    "        \"epoch\": epochs.default_value\n",
    "    },\n",
    "    sagemaker_session=pipeline_session,\n",
    "    role=role\n",
    ")"
   ]
  },
  {
   "cell_type": "code",
   "execution_count": 145,
   "id": "44d2145e-27bd-46a2-ac5b-eddc9c53499e",
   "metadata": {
    "tags": []
   },
   "outputs": [],
   "source": [
    "train_args = estimator.fit(\n",
    "    inputs={\n",
    "        \"training\": TrainingInput(\n",
    "            s3_data=step_preprocess.properties.ProcessingOutputConfig.Outputs[\n",
    "                \"train\"\n",
    "            ].S3Output.S3Uri\n",
    "        ),\n",
    "        \"validation\": TrainingInput(\n",
    "            s3_data=step_preprocess.properties.ProcessingOutputConfig.Outputs[\n",
    "                \"validation\"\n",
    "            ].S3Output.S3Uri\n",
    "        ),\n",
    "        \"test\": TrainingInput(\n",
    "            s3_data=step_preprocess.properties.ProcessingOutputConfig.Outputs[\n",
    "                \"test\"\n",
    "            ].S3Output.S3Uri\n",
    "        ),\n",
    "    },\n",
    "    experiment_config={\n",
    "        \"ExperimentName\": global_experiment_name,\n",
    "        # \"TrialName\": ExecutionVariables.TRAINING_JOB_NAME,\n",
    "        \"RunName\": ExecutionVariables.TRAINING_JOB_NAME,\n",
    "    }\n",
    ")"
   ]
  },
  {
   "cell_type": "code",
   "execution_count": 146,
   "id": "7515fbe3-c274-4624-8d35-b41a38063ef3",
   "metadata": {
    "tags": []
   },
   "outputs": [],
   "source": [
    "step_train = TrainingStep(\n",
    "    name=f\"{pipeline_base}-Train\", \n",
    "    step_args=train_args,\n",
    "    # cache_config=step_cache_config\n",
    ")"
   ]
  },
  {
   "cell_type": "markdown",
   "id": "83959d9b-ba4f-45e1-be5a-19776ab4a401",
   "metadata": {},
   "source": [
    "## Evaluation Metric"
   ]
  },
  {
   "cell_type": "code",
   "execution_count": 147,
   "id": "4f1dd178-f7f8-4137-bc24-f26000201e4a",
   "metadata": {
    "tags": []
   },
   "outputs": [],
   "source": [
    "from sagemaker.workflow.properties import PropertyFile"
   ]
  },
  {
   "cell_type": "code",
   "execution_count": 148,
   "id": "10c77d1c-3080-44d2-a584-72aff4e16fe4",
   "metadata": {
    "tags": []
   },
   "outputs": [],
   "source": [
    "script_evaluation = ScriptProcessor(\n",
    "    image_uri=processing_image_uri.default_value,\n",
    "    command=[\"python3\"],\n",
    "    instance_type=processing_instance_type,\n",
    "    instance_count=1,\n",
    "    base_job_name=f\"{base_job_prefix}/script-evaluation\",\n",
    "    sagemaker_session=pipeline_session,\n",
    "    role=role\n",
    ")"
   ]
  },
  {
   "cell_type": "code",
   "execution_count": 149,
   "id": "a3173616-1052-4dba-a711-a371af17110c",
   "metadata": {
    "tags": []
   },
   "outputs": [],
   "source": [
    "eval_args = script_evaluation.run(\n",
    "    outputs=[\n",
    "        ProcessingOutput(\n",
    "            output_name=\"evaluation\", \n",
    "            source=\"/opt/ml/processing/evaluation\"\n",
    "        )\n",
    "    ],\n",
    "    code=\"scripts/get_metrics.py\",\n",
    "    arguments=[\n",
    "        \"--training_job_name\",\n",
    "        step_train.properties.TrainingJobName,\n",
    "        \"--metric_names\",\n",
    "        training_monitor_metrics\n",
    "    ]\n",
    ")\n",
    "\n",
    "evaluation_report = PropertyFile(\n",
    "    name=\"EvaluationReport\", \n",
    "    output_name=\"evaluation\", \n",
    "    path=\"evaluation.json\"\n",
    ")"
   ]
  },
  {
   "cell_type": "code",
   "execution_count": 150,
   "id": "db867b2d-d267-4324-8fb9-f6265d83e6d7",
   "metadata": {
    "tags": []
   },
   "outputs": [],
   "source": [
    "step_eval = ProcessingStep(\n",
    "    name=f\"{pipeline_base}-GetMetrics\",\n",
    "    step_args=eval_args,\n",
    "    property_files=[evaluation_report],\n",
    "    cache_config=step_cache_config\n",
    ")"
   ]
  },
  {
   "cell_type": "markdown",
   "id": "e9c6325b-73a5-477e-8c7e-c29ce4968509",
   "metadata": {},
   "source": [
    "## Create a Model"
   ]
  },
  {
   "cell_type": "code",
   "execution_count": 151,
   "id": "84ce8a03-ef43-4800-9f3e-783325bd98b0",
   "metadata": {
    "tags": []
   },
   "outputs": [],
   "source": [
    "from sagemaker.workflow.model_step import Model"
   ]
  },
  {
   "cell_type": "code",
   "execution_count": 152,
   "id": "9bf4f537-6c1d-413f-b31a-2b894fc88a70",
   "metadata": {
    "tags": []
   },
   "outputs": [],
   "source": [
    "model = Model(\n",
    "    image_uri=estimator.image_uri,\n",
    "    model_data=step_train.properties.ModelArtifacts.S3ModelArtifacts,\n",
    "    sagemaker_session=pipeline_session,\n",
    "    role=role,\n",
    ")"
   ]
  },
  {
   "cell_type": "markdown",
   "id": "43a81325-d39d-4eaf-969a-9043301903f9",
   "metadata": {},
   "source": [
    "## Register Model"
   ]
  },
  {
   "cell_type": "code",
   "execution_count": 153,
   "id": "70e62b83-66be-4f97-ad99-c0a18d2e8f29",
   "metadata": {
    "tags": []
   },
   "outputs": [],
   "source": [
    "from sagemaker.workflow.model_step import ModelStep\n",
    "from sagemaker.workflow.functions import Join\n",
    "from sagemaker.model_metrics import MetricsSource, ModelMetrics\n",
    "from sagemaker.workflow.step_collections import RegisterModel\n",
    "from sagemaker.workflow.fail_step import FailStep"
   ]
  },
  {
   "cell_type": "markdown",
   "id": "fab74a7b-5ea5-495c-996d-07c13a11ab8c",
   "metadata": {},
   "source": [
    "### Add Model Metrics to a Model"
   ]
  },
  {
   "cell_type": "code",
   "execution_count": 154,
   "id": "1b002201-9680-4591-bc71-5dbff64590f0",
   "metadata": {
    "tags": []
   },
   "outputs": [
    {
     "name": "stderr",
     "output_type": "stream",
     "text": [
      "WARNING:sagemaker.workflow.utilities:Popping out 'ProcessingJobName' from the pipeline definition by default since it will be overridden at pipeline execution time. Please utilize the PipelineDefinitionConfig to persist this field in the pipeline definition if desired.\n"
     ]
    }
   ],
   "source": [
    "model_metrics = ModelMetrics(\n",
    "    model_statistics=MetricsSource(\n",
    "        s3_uri=\"{}/evaluation.json\".format(\n",
    "            step_eval.arguments[\"ProcessingOutputConfig\"][\"Outputs\"][0][\"S3Output\"][\"S3Uri\"]\n",
    "        ),\n",
    "        content_type=\"application/json\",\n",
    "    )\n",
    ")"
   ]
  },
  {
   "cell_type": "markdown",
   "id": "0c2a015e-d0cb-4f4d-9907-e18adc9b4821",
   "metadata": {},
   "source": [
    "### Register a Model as 'Approved' if the Model is below a Deploy Threshold"
   ]
  },
  {
   "cell_type": "code",
   "execution_count": 155,
   "id": "a18b312a-3ad8-4dde-b90b-dc2544e0340d",
   "metadata": {
    "tags": []
   },
   "outputs": [],
   "source": [
    "register_approved_args = model.register(\n",
    "    content_types=[\"text/csv\"],\n",
    "    response_types=[\"text/csv\"],\n",
    "    inference_instances=[\"ml.g4dn.12xlarge\"],\n",
    "    transform_instances=[\"ml.g4dn.12xlarge\"],\n",
    "    model_package_group_name=model_package_group_name,\n",
    "    approval_status=\"Approved\",\n",
    "    model_metrics=model_metrics,\n",
    ")\n",
    "\n",
    "step_approved_register = ModelStep(\n",
    "    name=f\"{pipeline_base}-Approved\", \n",
    "    step_args=register_approved_args\n",
    ")"
   ]
  },
  {
   "cell_type": "markdown",
   "id": "0b97a2a3-a3f0-4917-9789-49110709bba7",
   "metadata": {},
   "source": [
    "### Register a Model as 'Pending' if the Model is above an Acceptable Threshold but not below a Deploy Threshold"
   ]
  },
  {
   "cell_type": "code",
   "execution_count": 156,
   "id": "370a3b0e-a1e0-4121-8add-befe75657571",
   "metadata": {
    "tags": []
   },
   "outputs": [],
   "source": [
    "register_pending_args = model.register(\n",
    "    content_types=[\"text/csv\"],\n",
    "    response_types=[\"text/csv\"],\n",
    "    inference_instances=[\"ml.g4dn.12xlarge\"],\n",
    "    transform_instances=[\"ml.g4dn.12xlarge\"],\n",
    "    model_package_group_name=model_package_group_name,\n",
    "    approval_status=\"PendingManualApproval\",\n",
    "    model_metrics=model_metrics,\n",
    ")\n",
    "\n",
    "step_pending_register = ModelStep(\n",
    "    name=f\"{pipeline_base}-Pending\", \n",
    "    step_args=register_pending_args\n",
    ")"
   ]
  },
  {
   "cell_type": "markdown",
   "id": "8748c12c-c8d5-4d05-bd4f-a0d12504a2ff",
   "metadata": {},
   "source": [
    "### If the model is above an Acceptable Threshold, then lead to fail"
   ]
  },
  {
   "cell_type": "code",
   "execution_count": 157,
   "id": "9f9a57f3-3a2c-424f-b270-b88c2da6c1d5",
   "metadata": {
    "tags": []
   },
   "outputs": [],
   "source": [
    "step_fail = FailStep(\n",
    "    name=f\"{pipeline_base}-Fail\", \n",
    "    error_message=Join(on=\" \", values=[\"Execution failed because metric is below an acceptable threshold\"]),\n",
    ")"
   ]
  },
  {
   "cell_type": "markdown",
   "id": "156ad93c-11d4-4072-98ea-ba7712a3f89e",
   "metadata": {},
   "source": [
    "## Conditional Check"
   ]
  },
  {
   "cell_type": "code",
   "execution_count": 158,
   "id": "5d2f7b2c-8e47-43b9-b33a-d19da012c0f3",
   "metadata": {
    "tags": []
   },
   "outputs": [],
   "source": [
    "from sagemaker.workflow.fail_step import FailStep\n",
    "from sagemaker.workflow.functions import Join\n",
    "from sagemaker.workflow.conditions import ConditionLessThanOrEqualTo\n",
    "from sagemaker.workflow.condition_step import ConditionStep\n",
    "from sagemaker.workflow.functions import JsonGet"
   ]
  },
  {
   "cell_type": "code",
   "execution_count": 159,
   "id": "2b31fe45-267a-448a-8175-027ded19dac2",
   "metadata": {
    "tags": []
   },
   "outputs": [],
   "source": [
    "# acceptable threshold, below this threshold the model will enter into MR in Pending Status\n",
    "cond_pending_lte = ConditionLessThanOrEqualTo(\n",
    "    left=JsonGet(\n",
    "        step_name=step_eval.name,\n",
    "        property_file=evaluation_report,\n",
    "        json_path=\"metrics.train_loss.value\",\n",
    "    ),\n",
    "    right=pending_threshold\n",
    ")\n",
    "\n",
    "# deploy threshold, this this threshold the model will enter into MR in an Approved Status, ready to deploy!\n",
    "cond_approved_lte = ConditionLessThanOrEqualTo(\n",
    "    left=JsonGet(\n",
    "        step_name=step_eval.name,\n",
    "        property_file=evaluation_report,\n",
    "        json_path=\"metrics.train_loss.value\",\n",
    "    ),\n",
    "    right=approved_threshold\n",
    ")"
   ]
  },
  {
   "cell_type": "markdown",
   "id": "156f0038-ec0c-42ed-aa19-56667f55b751",
   "metadata": {},
   "source": [
    "### Branch 2, Approved Branch defined first"
   ]
  },
  {
   "cell_type": "code",
   "execution_count": 160,
   "id": "06460c7e-ff2f-471e-8f3c-36139d3c15e9",
   "metadata": {
    "tags": []
   },
   "outputs": [],
   "source": [
    "step_approved_cond = ConditionStep(\n",
    "    name=f\"{pipeline_base}-Check-to-Deploy\",\n",
    "    conditions=[cond_approved_lte],\n",
    "    if_steps=[step_approved_register],\n",
    "    else_steps=[step_pending_register],\n",
    ")"
   ]
  },
  {
   "cell_type": "markdown",
   "id": "71645cff-94b7-42c9-a00f-d13c1cc4a46e",
   "metadata": {},
   "source": [
    "### Branch 1, Acceptable Branch next"
   ]
  },
  {
   "cell_type": "code",
   "execution_count": 161,
   "id": "5de572ab-59e1-433b-84b2-3d9f14e4d8c3",
   "metadata": {
    "tags": []
   },
   "outputs": [],
   "source": [
    "step_basic_cond = ConditionStep(\n",
    "    name=f\"{pipeline_base}-Check-to-Register\",\n",
    "    conditions=[cond_pending_lte],\n",
    "    if_steps=[step_approved_cond],\n",
    "    else_steps=[step_fail],\n",
    ")"
   ]
  },
  {
   "cell_type": "markdown",
   "id": "e395de5d-1026-4fb7-958b-e0a942b4957c",
   "metadata": {},
   "source": [
    "## Execute Pipeline"
   ]
  },
  {
   "cell_type": "code",
   "execution_count": 162,
   "id": "38161959-5cd1-4b2f-8135-039263bc665a",
   "metadata": {
    "tags": []
   },
   "outputs": [],
   "source": [
    "from sagemaker.workflow.pipeline import Pipeline\n",
    "from sagemaker.workflow.execution_variables import ExecutionVariables\n",
    "from sagemaker.workflow.pipeline import PipelineExperimentConfig"
   ]
  },
  {
   "cell_type": "code",
   "execution_count": 163,
   "id": "88b364b8-0175-4286-a0a4-696d00f09bd7",
   "metadata": {
    "tags": []
   },
   "outputs": [],
   "source": [
    "pipeline_name = \"Llama2-7b-Finetune-Pipeline\"\n",
    "\n",
    "pipeline = Pipeline(\n",
    "    name=pipeline_name,\n",
    "    pipeline_experiment_config=None, # disable default config\n",
    "    parameters=[\n",
    "        input_dataset_name,\n",
    "        processing_instance_type,\n",
    "        processing_image_uri,\n",
    "        train_instance_count,\n",
    "        train_instance_type,\n",
    "        model_id,\n",
    "        model_package_group_name,\n",
    "        model_output_path,\n",
    "        pending_threshold,\n",
    "        approved_threshold,\n",
    "        training_monitor_metrics,\n",
    "        global_experiment_name\n",
    "    ],\n",
    "    steps=[step_preprocess, step_train, step_eval, step_basic_cond],\n",
    "    sagemaker_session=pipeline_session\n",
    ")"
   ]
  },
  {
   "cell_type": "code",
   "execution_count": 164,
   "id": "10fd4689-92d5-4e84-a063-c2f9b2891684",
   "metadata": {
    "tags": []
   },
   "outputs": [
    {
     "name": "stderr",
     "output_type": "stream",
     "text": [
      "WARNING:sagemaker.workflow.utilities:Popping out 'ProcessingJobName' from the pipeline definition by default since it will be overridden at pipeline execution time. Please utilize the PipelineDefinitionConfig to persist this field in the pipeline definition if desired.\n",
      "WARNING:sagemaker.workflow.utilities:Popping out 'TrainingJobName' from the pipeline definition by default since it will be overridden at pipeline execution time. Please utilize the PipelineDefinitionConfig to persist this field in the pipeline definition if desired.\n",
      "WARNING:sagemaker.workflow.utilities:Popping out 'ProcessingJobName' from the pipeline definition by default since it will be overridden at pipeline execution time. Please utilize the PipelineDefinitionConfig to persist this field in the pipeline definition if desired.\n",
      "WARNING:sagemaker.workflow._utils:Popping out 'CertifyForMarketplace' from the pipeline definition since it will be overridden in pipeline execution time.\n",
      "WARNING:sagemaker.workflow.utilities:Popping out 'ModelPackageName' from the pipeline definition by default since it will be overridden at pipeline execution time. Please utilize the PipelineDefinitionConfig to persist this field in the pipeline definition if desired.\n",
      "WARNING:sagemaker.workflow._utils:Popping out 'CertifyForMarketplace' from the pipeline definition since it will be overridden in pipeline execution time.\n",
      "WARNING:sagemaker.workflow.utilities:Popping out 'ModelPackageName' from the pipeline definition by default since it will be overridden at pipeline execution time. Please utilize the PipelineDefinitionConfig to persist this field in the pipeline definition if desired.\n",
      "WARNING:sagemaker.workflow.utilities:Popping out 'ProcessingJobName' from the pipeline definition by default since it will be overridden at pipeline execution time. Please utilize the PipelineDefinitionConfig to persist this field in the pipeline definition if desired.\n",
      "WARNING:sagemaker.workflow.utilities:Popping out 'TrainingJobName' from the pipeline definition by default since it will be overridden at pipeline execution time. Please utilize the PipelineDefinitionConfig to persist this field in the pipeline definition if desired.\n",
      "WARNING:sagemaker.workflow.utilities:Popping out 'ProcessingJobName' from the pipeline definition by default since it will be overridden at pipeline execution time. Please utilize the PipelineDefinitionConfig to persist this field in the pipeline definition if desired.\n",
      "WARNING:sagemaker.workflow.utilities:Popping out 'ModelPackageName' from the pipeline definition by default since it will be overridden at pipeline execution time. Please utilize the PipelineDefinitionConfig to persist this field in the pipeline definition if desired.\n",
      "WARNING:sagemaker.workflow.utilities:Popping out 'ModelPackageName' from the pipeline definition by default since it will be overridden at pipeline execution time. Please utilize the PipelineDefinitionConfig to persist this field in the pipeline definition if desired.\n"
     ]
    },
    {
     "data": {
      "text/plain": [
       "{'PipelineArn': 'arn:aws:sagemaker:us-east-1:811828458885:pipeline/Llama2-7b-Finetune-Pipeline',\n",
       " 'ResponseMetadata': {'RequestId': 'ac88eb21-7d72-4c1c-80f1-d77782bff495',\n",
       "  'HTTPStatusCode': 200,\n",
       "  'HTTPHeaders': {'x-amzn-requestid': 'ac88eb21-7d72-4c1c-80f1-d77782bff495',\n",
       "   'content-type': 'application/x-amz-json-1.1',\n",
       "   'content-length': '95',\n",
       "   'date': 'Wed, 30 Aug 2023 05:24:33 GMT'},\n",
       "  'RetryAttempts': 0}}"
      ]
     },
     "execution_count": 164,
     "metadata": {},
     "output_type": "execute_result"
    }
   ],
   "source": [
    "pipeline.upsert(\n",
    "    role_arn=role, \n",
    "    description=\"Fine tune a Jumpstart model with custom dataset using SageMaker Pipelines\"\n",
    ")"
   ]
  },
  {
   "cell_type": "code",
   "execution_count": 165,
   "id": "4479428a-f317-47d6-a7cc-67790dd98513",
   "metadata": {
    "tags": []
   },
   "outputs": [],
   "source": [
    "# import json\n",
    "# import pprint\n",
    "\n",
    "# definition = json.loads(pipeline.definition())\n",
    "# pprint.pprint(definition)"
   ]
  },
  {
   "cell_type": "code",
   "execution_count": 166,
   "id": "213ce797-4314-4cde-b5e6-b1c573cf9ce4",
   "metadata": {
    "tags": []
   },
   "outputs": [],
   "source": [
    "execution = pipeline.start(\n",
    "    execution_display_name=f\"finetune-{model_id.default_value}-{datetime.now().strftime('%y%m%d%H%M')}\",\n",
    "    execution_description=f\"Finetune a jumpstart model: {model_id.default_value} with dataset: {input_dataset_name.default_value}\"\n",
    ")"
   ]
  },
  {
   "cell_type": "code",
   "execution_count": null,
   "id": "3b5ed69f-277a-4320-8d1f-417ccd5f98da",
   "metadata": {},
   "outputs": [],
   "source": []
  }
 ],
 "metadata": {
  "availableInstances": [
   {
    "_defaultOrder": 0,
    "_isFastLaunch": true,
    "category": "General purpose",
    "gpuNum": 0,
    "hideHardwareSpecs": false,
    "memoryGiB": 4,
    "name": "ml.t3.medium",
    "vcpuNum": 2
   },
   {
    "_defaultOrder": 1,
    "_isFastLaunch": false,
    "category": "General purpose",
    "gpuNum": 0,
    "hideHardwareSpecs": false,
    "memoryGiB": 8,
    "name": "ml.t3.large",
    "vcpuNum": 2
   },
   {
    "_defaultOrder": 2,
    "_isFastLaunch": false,
    "category": "General purpose",
    "gpuNum": 0,
    "hideHardwareSpecs": false,
    "memoryGiB": 16,
    "name": "ml.t3.xlarge",
    "vcpuNum": 4
   },
   {
    "_defaultOrder": 3,
    "_isFastLaunch": false,
    "category": "General purpose",
    "gpuNum": 0,
    "hideHardwareSpecs": false,
    "memoryGiB": 32,
    "name": "ml.t3.2xlarge",
    "vcpuNum": 8
   },
   {
    "_defaultOrder": 4,
    "_isFastLaunch": true,
    "category": "General purpose",
    "gpuNum": 0,
    "hideHardwareSpecs": false,
    "memoryGiB": 8,
    "name": "ml.m5.large",
    "vcpuNum": 2
   },
   {
    "_defaultOrder": 5,
    "_isFastLaunch": false,
    "category": "General purpose",
    "gpuNum": 0,
    "hideHardwareSpecs": false,
    "memoryGiB": 16,
    "name": "ml.m5.xlarge",
    "vcpuNum": 4
   },
   {
    "_defaultOrder": 6,
    "_isFastLaunch": false,
    "category": "General purpose",
    "gpuNum": 0,
    "hideHardwareSpecs": false,
    "memoryGiB": 32,
    "name": "ml.m5.2xlarge",
    "vcpuNum": 8
   },
   {
    "_defaultOrder": 7,
    "_isFastLaunch": false,
    "category": "General purpose",
    "gpuNum": 0,
    "hideHardwareSpecs": false,
    "memoryGiB": 64,
    "name": "ml.m5.4xlarge",
    "vcpuNum": 16
   },
   {
    "_defaultOrder": 8,
    "_isFastLaunch": false,
    "category": "General purpose",
    "gpuNum": 0,
    "hideHardwareSpecs": false,
    "memoryGiB": 128,
    "name": "ml.m5.8xlarge",
    "vcpuNum": 32
   },
   {
    "_defaultOrder": 9,
    "_isFastLaunch": false,
    "category": "General purpose",
    "gpuNum": 0,
    "hideHardwareSpecs": false,
    "memoryGiB": 192,
    "name": "ml.m5.12xlarge",
    "vcpuNum": 48
   },
   {
    "_defaultOrder": 10,
    "_isFastLaunch": false,
    "category": "General purpose",
    "gpuNum": 0,
    "hideHardwareSpecs": false,
    "memoryGiB": 256,
    "name": "ml.m5.16xlarge",
    "vcpuNum": 64
   },
   {
    "_defaultOrder": 11,
    "_isFastLaunch": false,
    "category": "General purpose",
    "gpuNum": 0,
    "hideHardwareSpecs": false,
    "memoryGiB": 384,
    "name": "ml.m5.24xlarge",
    "vcpuNum": 96
   },
   {
    "_defaultOrder": 12,
    "_isFastLaunch": false,
    "category": "General purpose",
    "gpuNum": 0,
    "hideHardwareSpecs": false,
    "memoryGiB": 8,
    "name": "ml.m5d.large",
    "vcpuNum": 2
   },
   {
    "_defaultOrder": 13,
    "_isFastLaunch": false,
    "category": "General purpose",
    "gpuNum": 0,
    "hideHardwareSpecs": false,
    "memoryGiB": 16,
    "name": "ml.m5d.xlarge",
    "vcpuNum": 4
   },
   {
    "_defaultOrder": 14,
    "_isFastLaunch": false,
    "category": "General purpose",
    "gpuNum": 0,
    "hideHardwareSpecs": false,
    "memoryGiB": 32,
    "name": "ml.m5d.2xlarge",
    "vcpuNum": 8
   },
   {
    "_defaultOrder": 15,
    "_isFastLaunch": false,
    "category": "General purpose",
    "gpuNum": 0,
    "hideHardwareSpecs": false,
    "memoryGiB": 64,
    "name": "ml.m5d.4xlarge",
    "vcpuNum": 16
   },
   {
    "_defaultOrder": 16,
    "_isFastLaunch": false,
    "category": "General purpose",
    "gpuNum": 0,
    "hideHardwareSpecs": false,
    "memoryGiB": 128,
    "name": "ml.m5d.8xlarge",
    "vcpuNum": 32
   },
   {
    "_defaultOrder": 17,
    "_isFastLaunch": false,
    "category": "General purpose",
    "gpuNum": 0,
    "hideHardwareSpecs": false,
    "memoryGiB": 192,
    "name": "ml.m5d.12xlarge",
    "vcpuNum": 48
   },
   {
    "_defaultOrder": 18,
    "_isFastLaunch": false,
    "category": "General purpose",
    "gpuNum": 0,
    "hideHardwareSpecs": false,
    "memoryGiB": 256,
    "name": "ml.m5d.16xlarge",
    "vcpuNum": 64
   },
   {
    "_defaultOrder": 19,
    "_isFastLaunch": false,
    "category": "General purpose",
    "gpuNum": 0,
    "hideHardwareSpecs": false,
    "memoryGiB": 384,
    "name": "ml.m5d.24xlarge",
    "vcpuNum": 96
   },
   {
    "_defaultOrder": 20,
    "_isFastLaunch": false,
    "category": "General purpose",
    "gpuNum": 0,
    "hideHardwareSpecs": true,
    "memoryGiB": 0,
    "name": "ml.geospatial.interactive",
    "supportedImageNames": [
     "sagemaker-geospatial-v1-0"
    ],
    "vcpuNum": 0
   },
   {
    "_defaultOrder": 21,
    "_isFastLaunch": true,
    "category": "Compute optimized",
    "gpuNum": 0,
    "hideHardwareSpecs": false,
    "memoryGiB": 4,
    "name": "ml.c5.large",
    "vcpuNum": 2
   },
   {
    "_defaultOrder": 22,
    "_isFastLaunch": false,
    "category": "Compute optimized",
    "gpuNum": 0,
    "hideHardwareSpecs": false,
    "memoryGiB": 8,
    "name": "ml.c5.xlarge",
    "vcpuNum": 4
   },
   {
    "_defaultOrder": 23,
    "_isFastLaunch": false,
    "category": "Compute optimized",
    "gpuNum": 0,
    "hideHardwareSpecs": false,
    "memoryGiB": 16,
    "name": "ml.c5.2xlarge",
    "vcpuNum": 8
   },
   {
    "_defaultOrder": 24,
    "_isFastLaunch": false,
    "category": "Compute optimized",
    "gpuNum": 0,
    "hideHardwareSpecs": false,
    "memoryGiB": 32,
    "name": "ml.c5.4xlarge",
    "vcpuNum": 16
   },
   {
    "_defaultOrder": 25,
    "_isFastLaunch": false,
    "category": "Compute optimized",
    "gpuNum": 0,
    "hideHardwareSpecs": false,
    "memoryGiB": 72,
    "name": "ml.c5.9xlarge",
    "vcpuNum": 36
   },
   {
    "_defaultOrder": 26,
    "_isFastLaunch": false,
    "category": "Compute optimized",
    "gpuNum": 0,
    "hideHardwareSpecs": false,
    "memoryGiB": 96,
    "name": "ml.c5.12xlarge",
    "vcpuNum": 48
   },
   {
    "_defaultOrder": 27,
    "_isFastLaunch": false,
    "category": "Compute optimized",
    "gpuNum": 0,
    "hideHardwareSpecs": false,
    "memoryGiB": 144,
    "name": "ml.c5.18xlarge",
    "vcpuNum": 72
   },
   {
    "_defaultOrder": 28,
    "_isFastLaunch": false,
    "category": "Compute optimized",
    "gpuNum": 0,
    "hideHardwareSpecs": false,
    "memoryGiB": 192,
    "name": "ml.c5.24xlarge",
    "vcpuNum": 96
   },
   {
    "_defaultOrder": 29,
    "_isFastLaunch": true,
    "category": "Accelerated computing",
    "gpuNum": 1,
    "hideHardwareSpecs": false,
    "memoryGiB": 16,
    "name": "ml.g4dn.xlarge",
    "vcpuNum": 4
   },
   {
    "_defaultOrder": 30,
    "_isFastLaunch": false,
    "category": "Accelerated computing",
    "gpuNum": 1,
    "hideHardwareSpecs": false,
    "memoryGiB": 32,
    "name": "ml.g4dn.2xlarge",
    "vcpuNum": 8
   },
   {
    "_defaultOrder": 31,
    "_isFastLaunch": false,
    "category": "Accelerated computing",
    "gpuNum": 1,
    "hideHardwareSpecs": false,
    "memoryGiB": 64,
    "name": "ml.g4dn.4xlarge",
    "vcpuNum": 16
   },
   {
    "_defaultOrder": 32,
    "_isFastLaunch": false,
    "category": "Accelerated computing",
    "gpuNum": 1,
    "hideHardwareSpecs": false,
    "memoryGiB": 128,
    "name": "ml.g4dn.8xlarge",
    "vcpuNum": 32
   },
   {
    "_defaultOrder": 33,
    "_isFastLaunch": false,
    "category": "Accelerated computing",
    "gpuNum": 4,
    "hideHardwareSpecs": false,
    "memoryGiB": 192,
    "name": "ml.g4dn.12xlarge",
    "vcpuNum": 48
   },
   {
    "_defaultOrder": 34,
    "_isFastLaunch": false,
    "category": "Accelerated computing",
    "gpuNum": 1,
    "hideHardwareSpecs": false,
    "memoryGiB": 256,
    "name": "ml.g4dn.16xlarge",
    "vcpuNum": 64
   },
   {
    "_defaultOrder": 35,
    "_isFastLaunch": false,
    "category": "Accelerated computing",
    "gpuNum": 1,
    "hideHardwareSpecs": false,
    "memoryGiB": 61,
    "name": "ml.p3.2xlarge",
    "vcpuNum": 8
   },
   {
    "_defaultOrder": 36,
    "_isFastLaunch": false,
    "category": "Accelerated computing",
    "gpuNum": 4,
    "hideHardwareSpecs": false,
    "memoryGiB": 244,
    "name": "ml.p3.8xlarge",
    "vcpuNum": 32
   },
   {
    "_defaultOrder": 37,
    "_isFastLaunch": false,
    "category": "Accelerated computing",
    "gpuNum": 8,
    "hideHardwareSpecs": false,
    "memoryGiB": 488,
    "name": "ml.p3.16xlarge",
    "vcpuNum": 64
   },
   {
    "_defaultOrder": 38,
    "_isFastLaunch": false,
    "category": "Accelerated computing",
    "gpuNum": 8,
    "hideHardwareSpecs": false,
    "memoryGiB": 768,
    "name": "ml.p3dn.24xlarge",
    "vcpuNum": 96
   },
   {
    "_defaultOrder": 39,
    "_isFastLaunch": false,
    "category": "Memory Optimized",
    "gpuNum": 0,
    "hideHardwareSpecs": false,
    "memoryGiB": 16,
    "name": "ml.r5.large",
    "vcpuNum": 2
   },
   {
    "_defaultOrder": 40,
    "_isFastLaunch": false,
    "category": "Memory Optimized",
    "gpuNum": 0,
    "hideHardwareSpecs": false,
    "memoryGiB": 32,
    "name": "ml.r5.xlarge",
    "vcpuNum": 4
   },
   {
    "_defaultOrder": 41,
    "_isFastLaunch": false,
    "category": "Memory Optimized",
    "gpuNum": 0,
    "hideHardwareSpecs": false,
    "memoryGiB": 64,
    "name": "ml.r5.2xlarge",
    "vcpuNum": 8
   },
   {
    "_defaultOrder": 42,
    "_isFastLaunch": false,
    "category": "Memory Optimized",
    "gpuNum": 0,
    "hideHardwareSpecs": false,
    "memoryGiB": 128,
    "name": "ml.r5.4xlarge",
    "vcpuNum": 16
   },
   {
    "_defaultOrder": 43,
    "_isFastLaunch": false,
    "category": "Memory Optimized",
    "gpuNum": 0,
    "hideHardwareSpecs": false,
    "memoryGiB": 256,
    "name": "ml.r5.8xlarge",
    "vcpuNum": 32
   },
   {
    "_defaultOrder": 44,
    "_isFastLaunch": false,
    "category": "Memory Optimized",
    "gpuNum": 0,
    "hideHardwareSpecs": false,
    "memoryGiB": 384,
    "name": "ml.r5.12xlarge",
    "vcpuNum": 48
   },
   {
    "_defaultOrder": 45,
    "_isFastLaunch": false,
    "category": "Memory Optimized",
    "gpuNum": 0,
    "hideHardwareSpecs": false,
    "memoryGiB": 512,
    "name": "ml.r5.16xlarge",
    "vcpuNum": 64
   },
   {
    "_defaultOrder": 46,
    "_isFastLaunch": false,
    "category": "Memory Optimized",
    "gpuNum": 0,
    "hideHardwareSpecs": false,
    "memoryGiB": 768,
    "name": "ml.r5.24xlarge",
    "vcpuNum": 96
   },
   {
    "_defaultOrder": 47,
    "_isFastLaunch": false,
    "category": "Accelerated computing",
    "gpuNum": 1,
    "hideHardwareSpecs": false,
    "memoryGiB": 16,
    "name": "ml.g5.xlarge",
    "vcpuNum": 4
   },
   {
    "_defaultOrder": 48,
    "_isFastLaunch": false,
    "category": "Accelerated computing",
    "gpuNum": 1,
    "hideHardwareSpecs": false,
    "memoryGiB": 32,
    "name": "ml.g5.2xlarge",
    "vcpuNum": 8
   },
   {
    "_defaultOrder": 49,
    "_isFastLaunch": false,
    "category": "Accelerated computing",
    "gpuNum": 1,
    "hideHardwareSpecs": false,
    "memoryGiB": 64,
    "name": "ml.g5.4xlarge",
    "vcpuNum": 16
   },
   {
    "_defaultOrder": 50,
    "_isFastLaunch": false,
    "category": "Accelerated computing",
    "gpuNum": 1,
    "hideHardwareSpecs": false,
    "memoryGiB": 128,
    "name": "ml.g5.8xlarge",
    "vcpuNum": 32
   },
   {
    "_defaultOrder": 51,
    "_isFastLaunch": false,
    "category": "Accelerated computing",
    "gpuNum": 1,
    "hideHardwareSpecs": false,
    "memoryGiB": 256,
    "name": "ml.g5.16xlarge",
    "vcpuNum": 64
   },
   {
    "_defaultOrder": 52,
    "_isFastLaunch": false,
    "category": "Accelerated computing",
    "gpuNum": 4,
    "hideHardwareSpecs": false,
    "memoryGiB": 192,
    "name": "ml.g5.12xlarge",
    "vcpuNum": 48
   },
   {
    "_defaultOrder": 53,
    "_isFastLaunch": false,
    "category": "Accelerated computing",
    "gpuNum": 4,
    "hideHardwareSpecs": false,
    "memoryGiB": 384,
    "name": "ml.g5.24xlarge",
    "vcpuNum": 96
   },
   {
    "_defaultOrder": 54,
    "_isFastLaunch": false,
    "category": "Accelerated computing",
    "gpuNum": 8,
    "hideHardwareSpecs": false,
    "memoryGiB": 768,
    "name": "ml.g5.48xlarge",
    "vcpuNum": 192
   },
   {
    "_defaultOrder": 55,
    "_isFastLaunch": false,
    "category": "Accelerated computing",
    "gpuNum": 8,
    "hideHardwareSpecs": false,
    "memoryGiB": 1152,
    "name": "ml.p4d.24xlarge",
    "vcpuNum": 96
   },
   {
    "_defaultOrder": 56,
    "_isFastLaunch": false,
    "category": "Accelerated computing",
    "gpuNum": 8,
    "hideHardwareSpecs": false,
    "memoryGiB": 1152,
    "name": "ml.p4de.24xlarge",
    "vcpuNum": 96
   }
  ],
  "instance_type": "ml.t3.medium",
  "kernelspec": {
   "display_name": "Python 3 (Data Science 3.0)",
   "language": "python",
   "name": "python3__SAGEMAKER_INTERNAL__arn:aws:sagemaker:us-east-1:081325390199:image/sagemaker-data-science-310-v1"
  },
  "language_info": {
   "codemirror_mode": {
    "name": "ipython",
    "version": 3
   },
   "file_extension": ".py",
   "mimetype": "text/x-python",
   "name": "python",
   "nbconvert_exporter": "python",
   "pygments_lexer": "ipython3",
   "version": "3.10.6"
  }
 },
 "nbformat": 4,
 "nbformat_minor": 5
}
