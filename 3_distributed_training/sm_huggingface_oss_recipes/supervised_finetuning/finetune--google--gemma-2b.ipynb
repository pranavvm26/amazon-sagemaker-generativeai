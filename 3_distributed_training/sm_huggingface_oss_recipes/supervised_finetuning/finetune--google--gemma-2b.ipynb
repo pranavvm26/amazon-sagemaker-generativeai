{
 "cells": [
  {
   "cell_type": "markdown",
   "id": "e60b91a9-7d9c-4c45-be0f-5a224581f644",
   "metadata": {},
   "source": [
    "# 🚀 Customize and Deploy `google/gemma-2b` on Amazon SageMaker AI\n",
    "---\n",
    "In this notebook, we explore **Gemma-2B**, Google's efficient and capable language model from the Gemma family. You'll learn how to fine-tune this lightweight yet powerful model, evaluate its performance, and deploy it using SageMaker for cost-effective inference.\n",
    "\n",
    "**What is Gemma-2B?**\n",
    "\n",
    "Google's **Gemma-2B** is a 2-billion-parameter language model that delivers impressive performance while maintaining efficiency. Built on the same research and technology stack as the Gemini models, Gemma-2B provides excellent capabilities for text generation, reasoning, and instruction following in a compact form factor.  \n",
    "🔗 Model card: [google/gemma-2b on Hugging Face](https://huggingface.co/google/gemma-2b)\n",
    "\n",
    "---\n",
    "\n",
    "**Key Specifications**\n",
    "\n",
    "| Feature | Details |\n",
    "|---|---|\n",
    "| **Parameters** | ~2 billion |\n",
    "| **Architecture** | Transformer with RoPE embeddings and SwiGLU activation |\n",
    "| **Context Length** | Up to **8,192 tokens** |\n",
    "| **Training Data** | High-quality web data and curated text sources |\n",
    "| **Modalities** | Text-in / Text-out |\n",
    "| **License** | Gemma Terms of Use |\n",
    "| **Optimization** | Designed for efficiency and fast inference |\n",
    "\n",
    "---\n",
    "\n",
    "**Benchmarks & Behavior**\n",
    "\n",
    "- Gemma-2B demonstrates **strong performance per parameter**, competing with larger models on many tasks.  \n",
    "- Excellent **text generation quality** with coherent and contextually appropriate responses.  \n",
    "- Good **reasoning capabilities** for mathematical and logical problems.  \n",
    "- Efficient **resource utilization** making it ideal for edge deployment and cost-sensitive applications.  \n",
    "\n",
    "---\n",
    "\n",
    "**Using This Notebook**\n",
    "\n",
    "Here's what you'll cover:\n",
    "\n",
    "* Load a sample dataset from Hugging Face and prepare it for fine-tuning  \n",
    "* Fine-tune with SageMaker Training Jobs using efficient configurations  \n",
    "* Run Model Evaluation on various benchmarks  \n",
    "* Deploy to SageMaker Endpoints for cost-effective inference  \n",
    "\n",
    "---\n",
    "\n",
    "Let's begin by exploring `google/gemma-2b` and testing its baseline capabilities.\n"
   ]
  },
  {
   "cell_type": "code",
   "execution_count": 1,
   "id": "0ce40054-610a-4acc-a546-943893f293c1",
   "metadata": {},
   "outputs": [],
   "source": [
    "%pip install -Uq sagemaker datasets"
   ]
  },
  {
   "cell_type": "code",
   "execution_count": 2,
   "id": "b791e72e-82b5-4f8e-a7fe-700e8afdeba5",
   "metadata": {},
   "outputs": [],
   "source": [
    "import boto3\n",
    "import sagemaker"
   ]
  },
  {
   "cell_type": "code",
   "execution_count": 3,
   "id": "23c673a9-5b9f-47e0-92cf-bb97486b3e1a",
   "metadata": {},
   "outputs": [],
   "source": [
    "region = boto3.Session().region_name\n",
    "\n",
    "sess = sagemaker.Session(boto3.Session(region_name=region))\n",
    "\n",
    "sagemaker_session_bucket = None\n",
    "if sagemaker_session_bucket is None and sess is not None:\n",
    "    # set to default bucket if a bucket name is not given\n",
    "    sagemaker_session_bucket = sess.default_bucket()\n",
    "\n",
    "role = sagemaker.get_execution_role()"
   ]
  },
  {
   "cell_type": "code",
   "execution_count": 4,
   "id": "d9786901-b012-41ff-a98a-b16e5f60ec9c",
   "metadata": {},
   "outputs": [],
   "source": [
    "print(f\"sagemaker role arn: {role}\")\n",
    "print(f\"sagemaker bucket: {sess.default_bucket()}\")\n",
    "print(f\"sagemaker session region: {sess.boto_region_name}\")"
   ]
  }
 ],
 "metadata": {
  "kernelspec": {
   "display_name": "Python 3 (ipykernel)",
   "language": "python",
   "name": "python3"
  },
  "language_info": {
   "codemirror_mode": {
    "name": "ipython",
    "version": 3
   },
   "file_extension": ".py",
   "mimetype": "text/x-python",
   "name": "python",
   "nbconvert_exporter": "python",
   "pygments_lexer": "ipython3",
   "version": "3.10.14"
  }
 },
 "nbformat": 4,
 "nbformat_minor": 5
}