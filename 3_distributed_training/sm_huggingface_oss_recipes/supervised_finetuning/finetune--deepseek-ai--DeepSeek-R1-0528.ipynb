{
 "cells": [
  {
   "cell_type": "markdown",
   "id": "e60b91a9-7d9c-4c45-be0f-5a224581f644",
   "metadata": {},
   "source": [
    "# 🚀 Customize and Deploy `deepseek-ai/DeepSeek-R1-0528` on Amazon SageMaker AI\n",
    "\n",
    "In this notebook, we explore **DeepSeek-R1-0528**, a cutting-edge reasoning model from DeepSeek AI. You'll learn how to fine-tune it on reasoning datasets, evaluate its mathematical and logical capabilities, and deploy it using SageMaker for advanced reasoning tasks.\n",
    "\n",
    "## What is DeepSeek-R1-0528?\n",
    "DeepSeek-R1-0528 is part of DeepSeek's R1 series, specifically designed for advanced reasoning capabilities. This model represents a significant advancement in AI reasoning, combining deep learning with sophisticated reasoning mechanisms to tackle complex mathematical, logical, and analytical problems. It builds upon DeepSeek's expertise in creating efficient and powerful language models.  \n",
    "🔗 Model card: [deepseek-ai/DeepSeek-R1-0528 on Hugging Face](https://huggingface.co/deepseek-ai/DeepSeek-R1-0528)\n",
    "\n",
    "## Key Specifications\n",
    "| Feature | Details |\n",
    "|---|---|\n",
    "| **Parameters** | Multi-billion parameter architecture optimized for reasoning |\n",
    "| **Architecture** | Advanced Transformer with specialized reasoning modules |\n",
    "| **Context Length** | Extended context window for complex reasoning chains |\n",
    "| **Modalities** | Text-in / Text-out with focus on reasoning tasks |\n",
    "| **License** | Check model card for specific licensing terms |\n",
    "| **Release Date** | May 28th release (0528) |\n",
    "\n",
    "## Benchmarks & Behavior\n",
    "- Exceptional performance on **mathematical reasoning, logical inference, and complex problem-solving** benchmarks.  \n",
    "- Designed to excel at **multi-step reasoning tasks** with clear chain-of-thought capabilities.  \n",
    "- Strong performance on competition mathematics, coding challenges, and analytical reasoning tasks.  \n",
    "- Optimized for **step-by-step problem decomposition** and systematic solution approaches.  \n",
    "\n",
    "## Using This Notebook\n",
    "You'll cover:\n",
    "* Load the NuminaMath-CoT reasoning dataset from Hugging Face and prepare it for fine-tuning  \n",
    "* Fine-tune with SageMaker Training Jobs using reasoning-optimized configurations  \n",
    "* Run model evaluation on mathematical reasoning benchmarks  \n",
    "* Deploy to SageMaker Endpoints for production reasoning tasks  \n",
    "\n",
    "Let's begin by exploring `deepseek-ai/DeepSeek-R1-0528` and testing its baseline reasoning performance with mathematical problems.\n"
   ]
  },
  {
   "cell_type": "code",
   "execution_count": 1,
   "id": "install_packages",
   "metadata": {},
   "outputs": [
    {
     "name": "stdout",
     "output_type": "stream",
     "text": [
      "/home/ubuntu/py312-training/bin/python3: No module named pip\n",
      "Note: you may need to restart the kernel to use updated packages.\n"
     ]
    }
   ],
   "source": [
    "%pip install -Uq sagemaker datasets"
   ]
  },
  {
   "cell_type": "code",
   "execution_count": 2,
   "id": "import_libs",
   "metadata": {},
   "outputs": [
    {
     "ename": "ModuleNotFoundError",
     "evalue": "No module named 'sagemaker'",
     "output_type": "error",
     "traceback": [
      "\u001b[31m---------------------------------------------------------------------------\u001b[39m",
      "\u001b[31mModuleNotFoundError\u001b[39m                       Traceback (most recent call last)",
      "\u001b[36mCell\u001b[39m\u001b[36m \u001b[39m\u001b[32mIn[2]\u001b[39m\u001b[32m, line 2\u001b[39m\n\u001b[32m      1\u001b[39m \u001b[38;5;28;01mimport\u001b[39;00m\u001b[38;5;250m \u001b[39m\u001b[34;01mboto3\u001b[39;00m\n\u001b[32m----> \u001b[39m\u001b[32m2\u001b[39m \u001b[38;5;28;01mimport\u001b[39;00m\u001b[38;5;250m \u001b[39m\u001b[34;01msagemaker\u001b[39;00m\n\u001b[32m      3\u001b[39m \u001b[38;5;28;01mimport\u001b[39;00m\u001b[38;5;250m \u001b[39m\u001b[34;01mtime\u001b[39;00m\n",
      "\u001b[31mModuleNotFoundError\u001b[39m: No module named 'sagemaker'"
     ]
    }
   ],
   "source": [
    "import boto3\n",
    "import sagemaker\n",
    "import time"
   ]
  },
  {
   "cell_type": "code",
   "execution_count": 3,
   "id": "session_setup",
   "metadata": {},
   "outputs": [],
   "source": [
    "region = boto3.Session().region_name\n",
    "sess = sagemaker.Session(boto3.Session(region_name=region))\n",
    "\n",
    "sagemaker_session_bucket = sess.default_bucket()\n",
    "role = sagemaker.get_execution_role()"
   ]
  },
  {
   "cell_type": "code",
   "execution_count": 4,
   "id": "print_env",
   "metadata": {},
   "outputs": [],
   "source": [
    "print(f\"sagemaker role arn: {role}\")\n",
    "print(f\"sagemaker bucket: {sagemaker_session_bucket}\")\n",
    "print(f\"sagemaker session region: {sess.boto_region_name}\")"
   ]
  },
  {
   "cell_type": "markdown",
   "id": "dataset_intro",
   "metadata": {},
   "source": [
    "### [NuminaMath-CoT](https://huggingface.co/datasets/AI-MO/NuminaMath-CoT)\n",
    "\n",
    "**NuminaMath-CoT** is a large-scale dataset of **~860,000+ math competition question-solution pairs**, designed to support chain-of-thought reasoning in mathematical problem solving.\n",
    "\n",
    "**Data Format & Structure**:\n",
    "- Each example is a question followed by a solution; the solution is formatted with detailed **Chain-of-Thought (CoT)** reasoning.  \n",
    "- The data sources include *Chinese high school math exercises*, *US and international mathematics competition problems*, *online test-papers PDFs*, and *math discussion forums*.  \n",
    "- Preprocessing includes OCR from PDFs, segmentation to extract problem-solution pairs, translation into English, alignment into CoT style, and formatting of final answers.  \n",
    "\n",
    "**License**: Released under the **Apache-2.0** license.  \n",
    "\n",
    "**Applications**:\n",
    "\n",
    "This dataset is useful for training and evaluating models on tasks including:  \n",
    "- Complex math problem solving with reasoning steps (algebra, geometry, number theory, etc.)  \n",
    "- Benchmarking chain-of-thought performance of LLMs on competition-level math tasks  \n",
    "- Educational tools and tutoring systems that require explainable math solutions  \n",
    "- Fine-tuning models to improve consistency, reasoning depth, and accuracy in mathematical domains  \n"
   ]
  },
  {
   "cell_type": "code",
   "execution_count": 3,
   "id": "3930cfd8",
   "metadata": {},
   "outputs": [],
   "source": [
    "import os\n",
    "import json\n",
    "import pprint\n",
    "from tqdm import tqdm\n",
    "from datasets import load_dataset"
   ]
  },
  {
   "cell_type": "code",
   "execution_count": 4,
   "id": "411b39d1",
   "metadata": {},
   "outputs": [],
   "source": [
    "dataset_parent_path = os.path.join(os.getcwd(), \"tmp_cache_local_dataset\")\n",
    "os.makedirs(dataset_parent_path, exist_ok=True)"
   ]
  },
  {
   "cell_type": "markdown",
   "id": "2556c059",
   "metadata": {},
   "source": [
    "**Preparing Your Dataset in `messages` format**\n",
    "\n",
    "This section walks you through creating a conversation-style dataset—the required `messages` format—for directly training LLMs using SageMaker AI.\n",
    "\n",
    "**What Is the `messages` Format?**\n",
    "\n",
    "The `messages` format structures instances as chat-like exchanges, wrapping each conversation turn into a role-labeled JSON array. It’s widely used by frameworks like TRL.\n",
    "\n",
    "Example entry:\n",
    "\n",
    "```json\n",
    "{\n",
    "  \"messages\": [\n",
    "    { \"role\": \"system\", \"content\": \"You are a helpful assistant.\" },\n",
    "    { \"role\": \"user\", \"content\": \"How do I bake sourdough?\" },\n",
    "    { \"role\": \"assistant\", \"content\": \"First, you need to create a starter by...\" }\n",
    "  ]\n",
    "}\n"
   ]
  },
  {
   "cell_type": "code",
   "execution_count": 5,
   "id": "7d8c3f1a",
   "metadata": {},
   "outputs": [
    {
     "data": {
      "application/vnd.jupyter.widget-view+json": {
       "model_id": "be57ce8d75dc4af1ac299eaad6bf3db6",
       "version_major": 2,
       "version_minor": 0
      },
      "text/plain": [
       "README.md: 0.00B [00:00, ?B/s]"
      ]
     },
     "metadata": {},
     "output_type": "display_data"
    },
    {
     "data": {
      "application/vnd.jupyter.widget-view+json": {
       "model_id": "6882a2b91ddf471a883bea43128ba741",
       "version_major": 2,
       "version_minor": 0
      },
      "text/plain": [
       "data/train-00000-of-00005.parquet:   0%|          | 0.00/247M [00:00<?, ?B/s]"
      ]
     },
     "metadata": {},
     "output_type": "display_data"
    },
    {
     "data": {
      "application/vnd.jupyter.widget-view+json": {
       "model_id": "5d477de6c53b4f5a867f5c0dd3e97835",
       "version_major": 2,
       "version_minor": 0
      },
      "text/plain": [
       "data/train-00001-of-00005.parquet:   0%|          | 0.00/247M [00:00<?, ?B/s]"
      ]
     },
     "metadata": {},
     "output_type": "display_data"
    },
    {
     "data": {
      "application/vnd.jupyter.widget-view+json": {
       "model_id": "f8b223ff78cb4aafbef253d3e7abc488",
       "version_major": 2,
       "version_minor": 0
      },
      "text/plain": [
       "data/train-00002-of-00005.parquet:   0%|          | 0.00/247M [00:00<?, ?B/s]"
      ]
     },
     "metadata": {},
     "output_type": "display_data"
    },
    {
     "data": {
      "application/vnd.jupyter.widget-view+json": {
       "model_id": "2768c2e7cb7641b3812214d4f06e058c",
       "version_major": 2,
       "version_minor": 0
      },
      "text/plain": [
       "data/train-00003-of-00005.parquet:   0%|          | 0.00/247M [00:00<?, ?B/s]"
      ]
     },
     "metadata": {},
     "output_type": "display_data"
    },
    {
     "data": {
      "application/vnd.jupyter.widget-view+json": {
       "model_id": "2720af22ce20471a9d7adabaa71fa572",
       "version_major": 2,
       "version_minor": 0
      },
      "text/plain": [
       "data/train-00004-of-00005.parquet:   0%|          | 0.00/247M [00:00<?, ?B/s]"
      ]
     },
     "metadata": {},
     "output_type": "display_data"
    },
    {
     "data": {
      "application/vnd.jupyter.widget-view+json": {
       "model_id": "60ab19d27afd4dd28a2fc186b992e80d",
       "version_major": 2,
       "version_minor": 0
      },
      "text/plain": [
       "data/test-00000-of-00001.parquet:   0%|          | 0.00/166k [00:00<?, ?B/s]"
      ]
     },
     "metadata": {},
     "output_type": "display_data"
    },
    {
     "data": {
      "application/vnd.jupyter.widget-view+json": {
       "model_id": "0e26709e6b624f7dac533a7c7124b5cc",
       "version_major": 2,
       "version_minor": 0
      },
      "text/plain": [
       "Generating train split:   0%|          | 0/859494 [00:00<?, ? examples/s]"
      ]
     },
     "metadata": {},
     "output_type": "display_data"
    },
    {
     "data": {
      "application/vnd.jupyter.widget-view+json": {
       "model_id": "6516d1f3472046bc8e6401392b6eb40e",
       "version_major": 2,
       "version_minor": 0
      },
      "text/plain": [
       "Generating test split:   0%|          | 0/100 [00:00<?, ? examples/s]"
      ]
     },
     "metadata": {},
     "output_type": "display_data"
    }
   ],
   "source": [
    "dataset_name = \"AI-MO/NuminaMath-CoT\"\n",
    "dataset = load_dataset(dataset_name, split=\"train[:1000]\")"
   ]
  },
  {
   "cell_type": "code",
   "execution_count": 6,
   "id": "64240a30",
   "metadata": {},
   "outputs": [
    {
     "name": "stdout",
     "output_type": "stream",
     "text": [
      "{'source': 'synthetic_math',\n",
      " 'problem': 'Consider the terms of an arithmetic sequence: $-\\\\frac{1}{3}, '\n",
      "            'y+2, 4y, \\\\ldots$. Solve for $y$.',\n",
      " 'solution': 'For an arithmetic sequence, the difference between consecutive '\n",
      "             'terms must be equal. Therefore, we can set up the following '\n",
      "             'equations based on the sequence given:\\n'\n",
      "             '\\\\[ (y + 2) - \\\\left(-\\\\frac{1}{3}\\\\right) = 4y - (y+2) \\\\]\\n'\n",
      "             '\\n'\n",
      "             'Simplify and solve these equations:\\n'\n",
      "             '\\\\[ y + 2 + \\\\frac{1}{3} = 4y - y - 2 \\\\]\\n'\n",
      "             '\\\\[ y + \\\\frac{7}{3} = 3y - 2 \\\\]\\n'\n",
      "             '\\\\[ \\\\frac{7}{3} + 2 = 3y - y \\\\]\\n'\n",
      "             '\\\\[ \\\\frac{13}{3} = 2y \\\\]\\n'\n",
      "             '\\\\[ y = \\\\frac{13}{6} \\\\]\\n'\n",
      "             '\\n'\n",
      "             'Thus, the value of $y$ that satisfies the given arithmetic '\n",
      "             'sequence is $\\\\boxed{\\\\frac{13}{6}}$.',\n",
      " 'messages': [{'content': 'Consider the terms of an arithmetic sequence: '\n",
      "                          '$-\\\\frac{1}{3}, y+2, 4y, \\\\ldots$. Solve for $y$.',\n",
      "               'role': 'user'},\n",
      "              {'content': 'For an arithmetic sequence, the difference between '\n",
      "                          'consecutive terms must be equal. Therefore, we can '\n",
      "                          'set up the following equations based on the '\n",
      "                          'sequence given:\\n'\n",
      "                          '\\\\[ (y + 2) - \\\\left(-\\\\frac{1}{3}\\\\right) = 4y - '\n",
      "                          '(y+2) \\\\]\\n'\n",
      "                          '\\n'\n",
      "                          'Simplify and solve these equations:\\n'\n",
      "                          '\\\\[ y + 2 + \\\\frac{1}{3} = 4y - y - 2 \\\\]\\n'\n",
      "                          '\\\\[ y + \\\\frac{7}{3} = 3y - 2 \\\\]\\n'\n",
      "                          '\\\\[ \\\\frac{7}{3} + 2 = 3y - y \\\\]\\n'\n",
      "                          '\\\\[ \\\\frac{13}{3} = 2y \\\\]\\n'\n",
      "                          '\\\\[ y = \\\\frac{13}{6} \\\\]\\n'\n",
      "                          '\\n'\n",
      "                          'Thus, the value of $y$ that satisfies the given '\n",
      "                          'arithmetic sequence is $\\\\boxed{\\\\frac{13}{6}}$.',\n",
      "               'role': 'assistant'}]}\n"
     ]
    }
   ],
   "source": [
    "pprint.pp(dataset[0])"
   ]
  },
  {
   "cell_type": "code",
   "execution_count": 7,
   "id": "a0aa47d2",
   "metadata": {},
   "outputs": [
    {
     "name": "stdout",
     "output_type": "stream",
     "text": [
      "total number of fine-tunable samples: 1000\n"
     ]
    }
   ],
   "source": [
    "print(f\"total number of fine-tunable samples: {len(dataset)}\")"
   ]
  },
  {
   "cell_type": "code",
   "execution_count": 8,
   "id": "8c14548c",
   "metadata": {},
   "outputs": [
    {
     "data": {
      "application/vnd.jupyter.widget-view+json": {
       "model_id": "4607ca1f5f5d44458506dd9a10508a20",
       "version_major": 2,
       "version_minor": 0
      },
      "text/plain": [
       "Map:   0%|          | 0/1000 [00:00<?, ? examples/s]"
      ]
     },
     "metadata": {},
     "output_type": "display_data"
    }
   ],
   "source": [
    "def convert_to_messages_reasoning(row):\n",
    "    system_content = \"You are a mathematical reasoning assistant. Read the problem, restate the key givens and goal, then solve step-by-step with clear algebra (use LaTeX), keeping exact arithmetic (fractions/surds) and justifying each transformation (e.g., equal differences for arithmetic sequences). Verify any domain or extraneous-solution constraints, and present the final simplified answer concisely on the last line.\"\n",
    "    \n",
    "    messages_user_row = row[\"messages\"][0]\n",
    "    assert messages_user_row[\"role\"] == \"user\", f\"user row unmatched\"\n",
    "    user_content = messages_user_row[\"content\"]\n",
    "    \n",
    "    messages_assistant_row = row[\"messages\"][1]\n",
    "    assert messages_assistant_row[\"role\"] == \"assistant\", f\"assistant row unmatched\"\n",
    "    assistant_content = messages_assistant_row[\"content\"]\n",
    "\n",
    "    think_block = f\"<think>{row['solution']}</think>\"\n",
    "    \n",
    "    return {\n",
    "        \"messages\": [\n",
    "            { \"role\": \"system\", \"content\": system_content},\n",
    "            { \"role\": \"user\", \"content\": user_content },\n",
    "            { \"role\": \"assistant\", \"content\": f\"{think_block}\\n\\n{assistant_content}\" }\n",
    "        ]\n",
    "    }\n",
    "    \n",
    "    \n",
    "dataset = dataset.map(convert_to_messages_reasoning, remove_columns=dataset.column_names)"
   ]
  },
  {
   "cell_type": "code",
   "execution_count": 9,
   "id": "cfb84faf",
   "metadata": {},
   "outputs": [
    {
     "data": {
      "application/vnd.jupyter.widget-view+json": {
       "model_id": "fed54a44b27f4b4eb835db0b2b7b3f1c",
       "version_major": 2,
       "version_minor": 0
      },
      "text/plain": [
       "Creating json from Arrow format:   0%|          | 0/1 [00:00<?, ?ba/s]"
      ]
     },
     "metadata": {},
     "output_type": "display_data"
    },
    {
     "data": {
      "text/plain": [
       "3243521"
      ]
     },
     "execution_count": 9,
     "metadata": {},
     "output_type": "execute_result"
    }
   ],
   "source": [
    "dataset_filename = os.path.join(dataset_parent_path, f\"{dataset_name.replace('/', '--').replace('.', '-')}.jsonl\")\n",
    "dataset.to_json(dataset_filename, lines=True)"
   ]
  },
  {
   "cell_type": "markdown",
   "id": "3b70d97a",
   "metadata": {},
   "source": []
  }
 ],
 "metadata": {
  "kernelspec": {
   "display_name": "Python 3 (ipykernel)",
   "language": "python",
   "name": "python3"
  },
  "language_info": {
   "codemirror_mode": {
    "name": "ipython",
    "version": 3
   },
   "file_extension": ".py",
   "mimetype": "text/x-python",
   "name": "python",
   "nbconvert_exporter": "python",
   "pygments_lexer": "ipython3",
   "version": "3.12.10"
  }
 },
 "nbformat": 4,
 "nbformat_minor": 5
}
