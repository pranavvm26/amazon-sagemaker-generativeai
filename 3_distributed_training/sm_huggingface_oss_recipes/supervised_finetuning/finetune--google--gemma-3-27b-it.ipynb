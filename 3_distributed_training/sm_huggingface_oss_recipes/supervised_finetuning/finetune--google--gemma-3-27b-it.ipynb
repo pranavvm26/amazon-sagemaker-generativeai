{
 "cells": [
  {
   "cell_type": "markdown",
   "id": "e60b91a9-7d9c-4c45-be0f-5a224581f644",
   "metadata": {},
   "source": [
    "# 🚀 Customize and Deploy `google/gemma-3-27b-it` on Amazon SageMaker AI\n",
    "---\n",
    "In this notebook, we explore **Gemma-3-27B-IT**, Google's latest and most advanced instruction-tuned model in the Gemma family. You'll learn how to fine-tune this powerful model, evaluate its exceptional capabilities, and deploy it using SageMaker for production workloads.\n",
    "\n",
    "**What is Gemma-3-27B-IT?**\n",
    "\n",
    "Google's **Gemma-3-27B-IT** represents the pinnacle of the Gemma model series, featuring 27 billion parameters and advanced instruction-tuning. Built on cutting-edge research from the Gemini team, this model delivers state-of-the-art performance across reasoning, coding, mathematics, and complex instruction-following tasks.  \n",
    "🔗 Model card: [google/gemma-3-27b-it on Hugging Face](https://huggingface.co/google/gemma-3-27b-it)\n",
    "\n",
    "---\n",
    "\n",
    "**Key Specifications**\n",
    "\n",
    "| Feature | Details |\n",
    "|---|---|\n",
    "| **Parameters** | ~27 billion |\n",
    "| **Architecture** | Advanced Transformer with optimized attention and MLP layers |\n",
    "| **Context Length** | Extended context window for complex reasoning |\n",
    "| **Training Data** | High-quality curated datasets with advanced filtering |\n",
    "| **Modalities** | Text-in / Text-out |\n",
    "| **License** | Gemma Terms of Use |\n",
    "| **Instruction Tuning** | Advanced RLHF and supervised fine-tuning |\n",
    "\n",
    "---\n",
    "\n",
    "**Benchmarks & Behavior**\n",
    "\n",
    "- Gemma-3-27B-IT achieves **exceptional performance** on reasoning and instruction-following benchmarks.  \n",
    "- Outstanding **mathematical reasoning** and competitive programming capabilities.  \n",
    "- Advanced **code generation and debugging** across multiple programming languages.  \n",
    "- Excellent **multilingual capabilities** with strong performance across languages.  \n",
    "\n",
    "---\n",
    "\n",
    "**Using This Notebook**\n",
    "\n",
    "Here's what you'll cover:\n",
    "\n",
    "* Load a sample dataset from Hugging Face and prepare it for fine-tuning  \n",
    "* Fine-tune with SageMaker Training Jobs using advanced configurations  \n",
    "* Run Model Evaluation on reasoning and coding benchmarks  \n",
    "* Deploy to SageMaker Endpoints for high-performance inference  \n",
    "\n",
    "---\n",
    "\n",
    "Let's begin by exploring `google/gemma-3-27b-it` and testing its advanced capabilities.\n"
   ]
  },
  {
   "cell_type": "code",
   "execution_count": 1,
   "id": "0ce40054-610a-4acc-a546-943893f293c1",
   "metadata": {},
   "outputs": [],
   "source": [
    "%pip install -Uq sagemaker datasets"
   ]
  },
  {
   "cell_type": "code",
   "execution_count": 2,
   "id": "b791e72e-82b5-4f8e-a7fe-700e8afdeba5",
   "metadata": {},
   "outputs": [],
   "source": [
    "import boto3\n",
    "import sagemaker"
   ]
  },
  {
   "cell_type": "code",
   "execution_count": 3,
   "id": "23c673a9-5b9f-47e0-92cf-bb97486b3e1a",
   "metadata": {},
   "outputs": [],
   "source": [
    "region = boto3.Session().region_name\n",
    "\n",
    "sess = sagemaker.Session(boto3.Session(region_name=region))\n",
    "\n",
    "sagemaker_session_bucket = None\n",
    "if sagemaker_session_bucket is None and sess is not None:\n",
    "    # set to default bucket if a bucket name is not given\n",
    "    sagemaker_session_bucket = sess.default_bucket()\n",
    "\n",
    "role = sagemaker.get_execution_role()"
   ]
  },
  {
   "cell_type": "code",
   "execution_count": 4,
   "id": "d9786901-b012-41ff-a98a-b16e5f60ec9c",
   "metadata": {},
   "outputs": [],
   "source": [
    "print(f\"sagemaker role arn: {role}\")\n",
    "print(f\"sagemaker bucket: {sess.default_bucket()}\")\n",
    "print(f\"sagemaker session region: {sess.boto_region_name}\")"
   ]
  }
 ],
 "metadata": {
  "kernelspec": {
   "display_name": "Python 3 (ipykernel)",
   "language": "python",
   "name": "python3"
  },
  "language_info": {
   "codemirror_mode": {
    "name": "ipython",
    "version": 3
   },
   "file_extension": ".py",
   "mimetype": "text/x-python",
   "name": "python",
   "nbconvert_exporter": "python",
   "pygments_lexer": "ipython3",
   "version": "3.10.14"
  }
 },
 "nbformat": 4,
 "nbformat_minor": 5
}